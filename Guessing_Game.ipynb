{
  "nbformat": 4,
  "nbformat_minor": 0,
  "metadata": {
    "colab": {
      "provenance": [],
      "authorship_tag": "ABX9TyMIlZZHDPRuHIlc5H3ozrkB",
      "include_colab_link": true
    },
    "kernelspec": {
      "name": "python3",
      "display_name": "Python 3"
    },
    "language_info": {
      "name": "python"
    }
  },
  "cells": [
    {
      "cell_type": "markdown",
      "metadata": {
        "id": "view-in-github",
        "colab_type": "text"
      },
      "source": [
        "<a href=\"https://colab.research.google.com/github/fecaze/Guessing-Game/blob/main/Guessing_Game.ipynb\" target=\"_parent\"><img src=\"https://colab.research.google.com/assets/colab-badge.svg\" alt=\"Open In Colab\"/></a>"
      ]
    },
    {
      "cell_type": "code",
      "source": [
        "import random\n",
        "\n",
        "class GuessingGame:\n",
        "    def __init__(self):\n",
        "        self.number = random.randint(1, 100)\n",
        "        self.guess = None\n",
        "\n",
        "    def start_game(self):\n",
        "        print(\"Bem-vindo ao jogo de adivinhação! Será que você consegue adivinhar o número selecionado? Ele está entre 1 e 100.\")\n",
        "\n",
        "    def guess_number(self):\n",
        "        attempts = 0\n",
        "        while True:\n",
        "            self.guess = int(input(\"Vamos lá, diga um número: \"))\n",
        "            attempts += 1\n",
        "\n",
        "            if self.guess == self.number:\n",
        "                print(f\"Uau! Parabéns! Você adivinhou o número selecionado em {attempts} tentativas! :)\")\n",
        "                break\n",
        "            elif self.guess < self.number:\n",
        "                print(\"Ops! Seu chute foi mais baixo. Tente um número maior!\")\n",
        "            else:\n",
        "                print(\"Ops! Seu chute foi mais algo. Tente um número menor!\")\n",
        "\n",
        "if __name__ == \"__main__\":\n",
        "    game = GuessingGame()\n",
        "    game.start_game()\n",
        "    game.guess_number()\n",
        "    input(\"Obrigado por jogar! Pressione a tecla ENTER para sair...\")\n"
      ],
      "metadata": {
        "id": "XiGbz-GrG09q"
      },
      "execution_count": null,
      "outputs": []
    }
  ]
}